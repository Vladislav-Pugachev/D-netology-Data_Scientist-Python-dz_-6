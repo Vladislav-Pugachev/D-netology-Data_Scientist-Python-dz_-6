{
 "cells": [
  {
   "cell_type": "markdown",
   "metadata": {},
   "source": [
    "# Задание №1"
   ]
  },
  {
   "cell_type": "code",
   "execution_count": 9,
   "metadata": {},
   "outputs": [
    {
     "data": {
      "text/plain": [
       "datetime.datetime(1977, 8, 18, 0, 0)"
      ]
     },
     "execution_count": 9,
     "metadata": {},
     "output_type": "execute_result"
    }
   ],
   "source": [
    "from datetime import datetime\n",
    "Moscow_Time = 'Wednesday, October 2, 2002'\n",
    "Guardian = 'Friday, 11.10.13'\n",
    "Daily_News = 'Thursday, 18 August 1977'\n",
    "#Для Moscow_Time\n",
    "dt_mt = datetime.strptime(Moscow_Time,'%A, %B %d, %Y')\n",
    "#Для Guardian\n",
    "dt_g = datetime.strptime(Guardian,'%A, %m.%d.%y')\n",
    "#Для Daily_News\n",
    "dt_dn = datetime.strptime(Daily_News,'%A, %d %B %Y')"
   ]
  },
  {
   "cell_type": "markdown",
   "metadata": {},
   "source": [
    "# Задание №2"
   ]
  },
  {
   "cell_type": "code",
   "execution_count": 15,
   "metadata": {},
   "outputs": [
    {
     "name": "stdout",
     "output_type": "stream",
     "text": [
      "True\n",
      "False\n",
      "False\n"
     ]
    }
   ],
   "source": [
    "from datetime import datetime\n",
    "stream = ['2018-04-02', '2018-02-29', '2018-19-02']\n",
    "def stream_dt(streams):\n",
    "    for dt_stream in streams:\n",
    "        try:\n",
    "            dt = datetime.strptime(dt_stream,'%Y-%m-%d')\n",
    "            print('True')\n",
    "        except:\n",
    "            print('False')\n",
    "            pass\n",
    "stream_dt(stream)"
   ]
  },
  {
   "cell_type": "markdown",
   "metadata": {},
   "source": [
    "# Задание №3"
   ]
  },
  {
   "cell_type": "code",
   "execution_count": null,
   "metadata": {},
   "outputs": [],
   "source": [
    "from datetime import datetime\n",
    "from datetime import timedelta\n",
    "def date_range():\n",
    "    s = []\n",
    "    try:\n",
    "        start_date = datetime.strptime(input('Введите начало перирода: ' ), '%Y-%m-%d')\n",
    "        end_date = datetime.strptime(input('Введите окончание перирода: ' ), '%Y-%m-%d')\n",
    "        if start_date < end_date: \n",
    "            while start_date < end_date:\n",
    "                s.append(start_date.strftime('%Y-%m-%d'))\n",
    "                start_date+=timedelta(days=1)\n",
    "            return s\n",
    "        else:\n",
    "            print('Введен некорреткный период')\n",
    "            print(s)\n",
    "    except:\n",
    "        print('Введена неверная дата')\n",
    "        print(s)\n",
    "date_range()"
   ]
  },
  {
   "cell_type": "markdown",
   "metadata": {},
   "source": [
    "# Задание №4\n",
    "1. Данная ошибка возникла из за  того что произошло обращение к несуществующему индексу\n",
    "2. DEFAULT_USER_COUNT должен уменьшаться после вызова функции, так как после второго вызова в списке остался только один элемент, а обращение было на второй элемент "
   ]
  },
  {
   "cell_type": "code",
   "execution_count": 90,
   "metadata": {},
   "outputs": [
    {
     "data": {
      "text/plain": [
       "'A100'"
      ]
     },
     "execution_count": 90,
     "metadata": {},
     "output_type": "execute_result"
    }
   ],
   "source": [
    "DEFAULT_USER_COUNT = 3\n",
    "\n",
    "def delete_and_return_last_user(region, default_list=['A100', 'A101', 'A102']):\n",
    "    element_to_delete = default_list[-1]\n",
    "    default_list.remove(element_to_delete)\n",
    "    return default_list[DEFAULT_USER_COUNT-2]\n",
    "delete_and_return_last_user(1)\n",
    "delete_and_return_last_user(1)"
   ]
  }
 ],
 "metadata": {
  "kernelspec": {
   "display_name": "Python 3",
   "language": "python",
   "name": "python3"
  },
  "language_info": {
   "codemirror_mode": {
    "name": "ipython",
    "version": 3
   },
   "file_extension": ".py",
   "mimetype": "text/x-python",
   "name": "python",
   "nbconvert_exporter": "python",
   "pygments_lexer": "ipython3",
   "version": "3.8.5"
  }
 },
 "nbformat": 4,
 "nbformat_minor": 4
}
